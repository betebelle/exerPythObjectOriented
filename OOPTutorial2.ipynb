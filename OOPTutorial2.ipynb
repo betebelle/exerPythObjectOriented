{
  "nbformat": 4,
  "nbformat_minor": 0,
  "metadata": {
    "colab": {
      "provenance": [],
      "authorship_tag": "ABX9TyME7wkLbDOi7tlVcMHP4N1R",
      "include_colab_link": true
    },
    "kernelspec": {
      "name": "python3",
      "display_name": "Python 3"
    },
    "language_info": {
      "name": "python"
    }
  },
  "cells": [
    {
      "cell_type": "markdown",
      "metadata": {
        "id": "view-in-github",
        "colab_type": "text"
      },
      "source": [
        "<a href=\"https://colab.research.google.com/github/betebelle/exerPythObjectOriented/blob/master/OOPTutorial2.ipynb\" target=\"_parent\"><img src=\"https://colab.research.google.com/assets/colab-badge.svg\" alt=\"Open In Colab\"/></a>"
      ]
    },
    {
      "cell_type": "code",
      "execution_count": null,
      "metadata": {
        "id": "-17K_ijm50Fg"
      },
      "outputs": [],
      "source": [
        "# VIDEO 6 - Property Decorators\n",
        "\n",
        "class Employee:\n",
        "\n",
        "    def __init__(self, first, last):\n",
        "        self.first = first\n",
        "        self.last = last\n",
        "\n",
        "    @property\n",
        "    def email(self):\n",
        "        return '{}.{}@email.com'.format(self.first, self.last)\n",
        "\n",
        "    @property\n",
        "    def fullname(self):\n",
        "        return '{} {}'.format(self.first, self.last)\n",
        "\n",
        "    @fullname.setter\n",
        "    def fullname(self, name):\n",
        "        first, last = name.split(' ')\n",
        "        self.first = first\n",
        "        self.last = last\n",
        "\n",
        "    @fullname.deleter\n",
        "    def fullname(self):\n",
        "        print('Delete Name!')\n",
        "        self.first = None\n",
        "        self.last = None"
      ]
    },
    {
      "cell_type": "code",
      "source": [
        "emp_1 = Employee('John', 'Smith')"
      ],
      "metadata": {
        "id": "6dHaWsaY92eB"
      },
      "execution_count": null,
      "outputs": []
    },
    {
      "cell_type": "code",
      "source": [
        "print(emp_1.first)\n",
        "print(emp_1.email)"
      ],
      "metadata": {
        "colab": {
          "base_uri": "https://localhost:8080/"
        },
        "id": "G27sDPOe92_m",
        "outputId": "2393ebff-88b2-4213-c26c-9d2e2cdebdf2"
      },
      "execution_count": null,
      "outputs": [
        {
          "output_type": "stream",
          "name": "stdout",
          "text": [
            "John\n",
            "John.Smith@email.com\n"
          ]
        }
      ]
    },
    {
      "cell_type": "code",
      "source": [
        "emp_1.first = 'Jim'"
      ],
      "metadata": {
        "id": "6izdfUzC-uFc"
      },
      "execution_count": null,
      "outputs": []
    },
    {
      "cell_type": "code",
      "source": [
        "print(emp_1.first)\n",
        "print(emp_1.email)\n",
        "print(emp_1.fullname())"
      ],
      "metadata": {
        "colab": {
          "base_uri": "https://localhost:8080/"
        },
        "id": "Ft9gpZsy-xCn",
        "outputId": "40210e76-9ce2-4735-eca8-92294dd7467f"
      },
      "execution_count": null,
      "outputs": [
        {
          "output_type": "stream",
          "name": "stdout",
          "text": [
            "Jim\n",
            "John.Smith@email.com\n",
            "Jim Smith\n"
          ]
        }
      ]
    },
    {
      "cell_type": "code",
      "source": [
        "print(emp_1.first)\n",
        "print(emp_1.email)\n",
        "print(emp_1.fullname())"
      ],
      "metadata": {
        "colab": {
          "base_uri": "https://localhost:8080/"
        },
        "id": "_Fpe8Jqj-ze3",
        "outputId": "db8f8cb7-acf7-4d51-9fc2-4c11a0974899"
      },
      "execution_count": null,
      "outputs": [
        {
          "output_type": "stream",
          "name": "stdout",
          "text": [
            "Jim\n",
            "John.Smith@email.com\n",
            "Jim Smith\n"
          ]
        }
      ]
    },
    {
      "cell_type": "code",
      "source": [
        "print(emp_1.first)\n",
        "print(emp_1.email)\n",
        "print(emp_1.fullname)"
      ],
      "metadata": {
        "colab": {
          "base_uri": "https://localhost:8080/"
        },
        "id": "l3AheYLbAnGy",
        "outputId": "70dc6698-4d49-4354-fa6e-aa654914a314"
      },
      "execution_count": null,
      "outputs": [
        {
          "output_type": "stream",
          "name": "stdout",
          "text": [
            "Jim\n",
            "Jim.Smith@email.com\n",
            "Jim Smith\n"
          ]
        }
      ]
    },
    {
      "cell_type": "code",
      "source": [
        "emp_1.fullname = 'Corey Schafer'"
      ],
      "metadata": {
        "id": "hHTM5gmOApau"
      },
      "execution_count": null,
      "outputs": []
    },
    {
      "cell_type": "code",
      "source": [
        "print(emp_1.first)\n",
        "print(emp_1.email)\n",
        "print(emp_1.fullname)"
      ],
      "metadata": {
        "colab": {
          "base_uri": "https://localhost:8080/"
        },
        "id": "gXN2SNllBHQF",
        "outputId": "7a67c9e8-a7a6-4f04-f894-cd98654c9b81"
      },
      "execution_count": null,
      "outputs": [
        {
          "output_type": "stream",
          "name": "stdout",
          "text": [
            "Corey\n",
            "Corey.Schafer@email.com\n",
            "Corey Schafer\n"
          ]
        }
      ]
    },
    {
      "cell_type": "code",
      "source": [
        "del emp_1.fullname"
      ],
      "metadata": {
        "colab": {
          "base_uri": "https://localhost:8080/"
        },
        "id": "KR-Bx0KEBdw9",
        "outputId": "0ef56301-bf79-47c1-da45-666dfe468530"
      },
      "execution_count": null,
      "outputs": [
        {
          "output_type": "stream",
          "name": "stdout",
          "text": [
            "Delete Name!\n"
          ]
        }
      ]
    },
    {
      "cell_type": "code",
      "source": [],
      "metadata": {
        "id": "RH69aFY6By0j"
      },
      "execution_count": null,
      "outputs": []
    }
  ]
}